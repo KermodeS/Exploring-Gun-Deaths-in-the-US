{
 "cells": [
  {
   "cell_type": "code",
   "execution_count": 112,
   "metadata": {
    "collapsed": false
   },
   "outputs": [
    {
     "name": "stdout",
     "output_type": "stream",
     "text": [
      "['', 'year', 'month', 'intent', 'police', 'sex', 'age', 'race', 'hispanic', 'place', 'education']\n",
      "[['1', '2012', '01', 'Suicide', '0', 'M', '34', 'Asian/Pacific Islander', '100', 'Home', '4'], ['2', '2012', '01', 'Suicide', '0', 'F', '21', 'White', '100', 'Street', '3']]\n"
     ]
    }
   ],
   "source": [
    "import csv\n",
    "f = open(\"guns.csv\", 'r')\n",
    "data = list(csv.reader(f))\n",
    "#print(data[0:3])\n",
    "headers = data[0]\n",
    "data = data[1:]\n",
    "print(headers)\n",
    "print(data[0:2])"
   ]
  },
  {
   "cell_type": "code",
   "execution_count": 113,
   "metadata": {
    "collapsed": false
   },
   "outputs": [
    {
     "name": "stdout",
     "output_type": "stream",
     "text": [
      "{'2013': 33636, '2012': 33563, '2014': 33599}\n"
     ]
    }
   ],
   "source": [
    "year_counts = {}\n",
    "years = [row[1] for row in data]\n",
    "for year in years :\n",
    "    if year in year_counts :\n",
    "        year_counts[year] = year_counts[year] + 1\n",
    "    else :\n",
    "        year_counts[year] = 1\n",
    "print(year_counts)"
   ]
  },
  {
   "cell_type": "code",
   "execution_count": 114,
   "metadata": {
    "collapsed": false
   },
   "outputs": [],
   "source": [
    "import datetime\n",
    "date_counts = {}\n",
    "dates = [datetime.datetime(year=int(row[1]), month=int(row[2]), day=1) for row in data]\n",
    "#print(dates[:5])\n",
    "for date in dates :\n",
    "    if date not in date_counts :\n",
    "        date_counts[date] = 0\n",
    "    date_counts[date] += 1\n",
    "#print(date_counts)"
   ]
  },
  {
   "cell_type": "code",
   "execution_count": 115,
   "metadata": {
    "collapsed": false
   },
   "outputs": [
    {
     "name": "stdout",
     "output_type": "stream",
     "text": [
      "{'Black': 23296, 'Hispanic': 9022, 'Native American/Native Alaskan': 917, 'White': 66237, 'Asian/Pacific Islander': 1326}\n",
      "{'F': 14449, 'M': 86349}\n"
     ]
    }
   ],
   "source": [
    "sex_counts = {}\n",
    "race_counts = {}\n",
    "sexs = [row[5] for row in data]\n",
    "races = [row[7] for row in data]\n",
    "for sex in sexs :\n",
    "    if sex not in sex_counts :\n",
    "        sex_counts[sex] = 1\n",
    "    else :\n",
    "        sex_counts[sex] = sex_counts[sex] + 1\n",
    "        \n",
    "for race in races :\n",
    "    if race not in race_counts :\n",
    "        race_counts[race] = 1\n",
    "    else :\n",
    "        race_counts[race] = race_counts[race] + 1\n",
    "        \n",
    "print(race_counts)\n",
    "print(sex_counts)"
   ]
  },
  {
   "cell_type": "code",
   "execution_count": 116,
   "metadata": {
    "collapsed": false
   },
   "outputs": [
    {
     "name": "stdout",
     "output_type": "stream",
     "text": [
      "[['Id', 'Year', 'Id', 'Sex', 'Id', 'Hispanic Origin', 'Id', 'Id2', 'Geography', 'Total', 'Race Alone - White', 'Race Alone - Hispanic', 'Race Alone - Black or African American', 'Race Alone - American Indian and Alaska Native', 'Race Alone - Asian', 'Race Alone - Native Hawaiian and Other Pacific Islander', 'Two or More Races'], ['cen42010', 'April 1, 2010 Census', 'totsex', 'Both Sexes', 'tothisp', 'Total', '0100000US', '', 'United States', '308745538', '197318956', '44618105', '40250635', '3739506', '15159516', '674625', '6984195']]\n"
     ]
    }
   ],
   "source": [
    "import csv\n",
    "\n",
    "f = open(\"census.csv\", 'r')\n",
    "census = list(csv.reader(f))\n",
    "print(census)"
   ]
  },
  {
   "cell_type": "code",
   "execution_count": 117,
   "metadata": {
    "collapsed": false
   },
   "outputs": [
    {
     "name": "stdout",
     "output_type": "stream",
     "text": [
      "{'Black': 52.21, 'Asian/Pacific Islander': 2.97, 'Native American/Native Alaskan': 2.06, 'White': 148.45, 'Hispanic': 20.22}\n"
     ]
    }
   ],
   "source": [
    "race_per_hundredk = {}\n",
    "mapping = {'Black': 40250635, 'Hispanic': 44618105, 'White': 197318956, 'Native American/Native Alaskan': 3739506, 'Asian/Pacific Islander': (15834141)}\n",
    "\n",
    "for key, j in race_counts.items() :\n",
    "    if key in mapping :\n",
    "        for row, l in mapping.items() :\n",
    "            race_per_hundredk[key] = round((j / l) * 100000, 2)\n",
    "print(race_per_hundredk)"
   ]
  },
  {
   "cell_type": "code",
   "execution_count": 118,
   "metadata": {
    "collapsed": false
   },
   "outputs": [
    {
     "name": "stdout",
     "output_type": "stream",
     "text": [
      "{'Black': 43.73, 'Asian/Pacific Islander': 1.25, 'Native American/Native Alaskan': 0.73, 'White': 20.5, 'Hispanic': 12.63}\n"
     ]
    }
   ],
   "source": [
    "homicide_race_counts = {}\n",
    "intent = [each[3] for each in data]\n",
    "races = [row[7] for row in data]\n",
    "#print(set(races))\n",
    "\n",
    "for i, race in enumerate(races) :\n",
    "    if intent[i] == \"Homicide\" :\n",
    "        if race not in homicide_race_counts :\n",
    "            homicide_race_counts[race] = 1\n",
    "        else :\n",
    "            homicide_race_counts[race] = homicide_race_counts[race] + 1\n",
    "#print(homicide_race_counts)\n",
    "\n",
    "race_homicide_per_hundredk = {}\n",
    "mapping = {'Black': 40250635, 'Hispanic': 44618105, 'White': 197318956, 'Native American/Native Alaskan': 3739506, 'Asian/Pacific Islander': (15834141)}\n",
    "\n",
    "for keys, k in homicide_race_counts.items() :\n",
    "    if keys in mapping :\n",
    "        for rowss, t in mapping.items() :\n",
    "            race_homicide_per_hundredk[keys] = round((k / t) * 100000, 2)\n",
    "print(race_homicide_per_hundredk)\n",
    "\n"
   ]
  },
  {
   "cell_type": "code",
   "execution_count": 120,
   "metadata": {
    "collapsed": true
   },
   "outputs": [],
   "source": [
    "# The sucide rates by race, thought the white population\n",
    "# is 5x larger than the blacks their deaths caused by\n",
    "# is only 3x larger than blacks.  This shows that blacks\n",
    "# are more likely to be killed by a gun. THe data also\n",
    "# shows that suicide is a much bigger issue for blacks \n",
    "# thank whites."
   ]
  },
  {
   "cell_type": "code",
   "execution_count": null,
   "metadata": {
    "collapsed": true
   },
   "outputs": [],
   "source": [
    "# Next steps I could be interested in exploring is\n",
    "# looking at these deaths by state, time of year looking\n",
    "# specifically at holidays and full moons. I would also \n",
    "# want to normilize this data into percentages so that\n",
    "# its easier to see the deaths by percent of population"
   ]
  }
 ],
 "metadata": {
  "kernelspec": {
   "display_name": "Python 3",
   "language": "python",
   "name": "python3"
  },
  "language_info": {
   "codemirror_mode": {
    "name": "ipython",
    "version": 3
   },
   "file_extension": ".py",
   "mimetype": "text/x-python",
   "name": "python",
   "nbconvert_exporter": "python",
   "pygments_lexer": "ipython3",
   "version": "3.4.3"
  }
 },
 "nbformat": 4,
 "nbformat_minor": 0
}
